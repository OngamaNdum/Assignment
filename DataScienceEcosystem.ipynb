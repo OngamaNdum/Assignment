{
 "cells": [
  {
   "cell_type": "markdown",
   "id": "95d44262-2abf-4821-be98-ab343b6243fa",
   "metadata": {},
   "source": [
    "# Data Science Ecosystem and Tools"
   ]
  },
  {
   "cell_type": "markdown",
   "id": "ee33e7c0-53c3-41db-b595-be2a6b25ab7a",
   "metadata": {},
   "source": [
    "In this notebook, Data Science Tools and Ecosystem are summarized"
   ]
  },
  {
   "cell_type": "markdown",
   "id": "c7e71995-dd62-47c5-8396-a0cb95493569",
   "metadata": {},
   "source": [
    "**The objectives for this course were:**\n",
    "+ Data Science Languages\n",
    "+ Data Science Libraries\n",
    "+ Data Science Tools"
   ]
  },
  {
   "cell_type": "markdown",
   "id": "c49482ab-c114-4804-a9e0-8b2f2b277bf9",
   "metadata": {},
   "source": [
    "Some of the popular languages that Data Scientists use are:\n",
    "\n",
    "1. Python\n",
    "2. R\n",
    "3. Scala\n",
    "4. JavaScript"
   ]
  },
  {
   "cell_type": "markdown",
   "id": "167b4799-9e3b-4131-9e21-38877efc2caf",
   "metadata": {},
   "source": [
    "Some of the commonly used libraries used by Data Scientists include\n",
    "--------------------------------------------------------------------\n",
    "1. NumPy\n",
    "2. Pandas\n",
    "3. SciPy\n",
    "4. TensorFlow"
   ]
  },
  {
   "cell_type": "markdown",
   "id": "62f66d55-2525-4f63-8ace-865b5f69f981",
   "metadata": {},
   "source": [
    "|Data Science Tools |\n",
    "| ------------------| \n",
    "| Jupyter Notebook | \n",
    "|RStudio |\n",
    "| PyCharm |\n",
    "\n"
   ]
  },
  {
   "cell_type": "markdown",
   "id": "ccded40a-abfc-4c93-ad4c-909546e5f24d",
   "metadata": {},
   "source": [
    "### Below are a few examples of evaluating arithmetic expressions in Python"
   ]
  },
  {
   "cell_type": "code",
   "execution_count": 9,
   "id": "e8b41523-94ad-44f6-a67c-9ae64d231a14",
   "metadata": {
    "tags": []
   },
   "outputs": [
    {
     "data": {
      "text/plain": [
       "17"
      ]
     },
     "execution_count": 9,
     "metadata": {},
     "output_type": "execute_result"
    }
   ],
   "source": [
    "#This a simple arithmetic expression to mutiply then add integers\n",
    "(3*4)+5"
   ]
  },
  {
   "cell_type": "code",
   "execution_count": null,
   "id": "1b0c19b5-ce15-4e45-ab15-f4846987a5fa",
   "metadata": {},
   "outputs": [],
   "source": [
    "min=int(input(\"200\"))\n",
    "h=min//60.\n",
    "m=min%60"
   ]
  },
  {
   "cell_type": "markdown",
   "id": "908a898f-542a-452e-97d3-57460bb6c0fc",
   "metadata": {},
   "source": [
    "## Author: \n",
    "Ongama Ndum-Ndum\n",
    "\n"
   ]
  },
  {
   "cell_type": "code",
   "execution_count": null,
   "id": "e478291c-d535-41d0-b3d1-e2111483aa50",
   "metadata": {},
   "outputs": [],
   "source": []
  }
 ],
 "metadata": {
  "kernelspec": {
   "display_name": "Python",
   "language": "python",
   "name": "conda-env-python-py"
  },
  "language_info": {
   "codemirror_mode": {
    "name": "ipython",
    "version": 3
   },
   "file_extension": ".py",
   "mimetype": "text/x-python",
   "name": "python",
   "nbconvert_exporter": "python",
   "pygments_lexer": "ipython3",
   "version": "3.7.12"
  }
 },
 "nbformat": 4,
 "nbformat_minor": 5
}
